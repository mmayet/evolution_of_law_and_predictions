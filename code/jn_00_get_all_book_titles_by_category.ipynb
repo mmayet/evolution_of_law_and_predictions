{
 "cells": [
  {
   "cell_type": "code",
   "execution_count": 57,
   "metadata": {},
   "outputs": [],
   "source": [
    "import re\n",
    "import json\n",
    "import requests\n",
    "import pandas as pd\n",
    "from bs4 import BeautifulSoup"
   ]
  },
  {
   "cell_type": "code",
   "execution_count": 58,
   "metadata": {},
   "outputs": [],
   "source": [
    "site_data = {}"
   ]
  },
  {
   "cell_type": "code",
   "execution_count": 59,
   "metadata": {},
   "outputs": [],
   "source": [
    "def get_categories():\n",
    "    categories = []\n",
    "    \n",
    "    url = 'http://www.shamela.ws/index.php/categories'\n",
    "    response = requests.get(url)\n",
    "    soup = BeautifulSoup(response.text, \"lxml\")\n",
    "\n",
    "    for category in soup.find_all('li', {'class':'regular-cat'}):\n",
    "        cat_name = str(category.find('a').text)\n",
    "        cat_link = str(category.find('a').attrs['href'])\n",
    "        if re.match('/index\\.php/category/\\d+',cat_link):\n",
    "            categories.append((cat_name, cat_link))\n",
    "            #print(cat_name, cat_link)\n",
    "    \n",
    "    with open('categories.json', 'w') as fp:\n",
    "        json.dump(categories, fp)\n",
    "    \n",
    "    return categories"
   ]
  },
  {
   "cell_type": "code",
   "execution_count": 60,
   "metadata": {},
   "outputs": [],
   "source": [
    "def get_last_category_page(soup):\n",
    "    try: \n",
    "        last_page = soup.find_all('a', {'href': re.compile(r'/index\\.php/category/\\d+/page-\\d+')})[1]\n",
    "        return re.findall(r'/index\\.php/category/\\d+/page-(\\d+)',str(last_page))[0]\n",
    "    except:\n",
    "        return '1'"
   ]
  },
  {
   "cell_type": "code",
   "execution_count": 65,
   "metadata": {},
   "outputs": [],
   "source": [
    "def get_books():\n",
    "    categories = get_categories()\n",
    "    \n",
    "    for category in categories[:-1]:\n",
    "        url = 'http://www.shamela.ws'+category[1]\n",
    "        response = requests.get(url)\n",
    "        soup = BeautifulSoup(response.text, \"lxml\")\n",
    "        last_page = get_last_category_page(soup)\n",
    "        \n",
    "        books = []\n",
    "        \n",
    "        for page in range(1,int(last_page)+1):\n",
    "            url = 'http://www.shamela.ws'+category[1]+'/page-'+str(page)\n",
    "            response = requests.get(url)\n",
    "            soup = BeautifulSoup(response.text, \"lxml\")\n",
    "            \n",
    "            print('Category: ', category[0], ' ', category[1],'Page No. ',page)\n",
    "            for book in soup.find_all('td', {'class':'regular-book'}):\n",
    "                try:\n",
    "                    book_name = str(book.find('a').text)\n",
    "                    book_link = str(book.find('a').attrs['href'])\n",
    "                    if re.match('/index\\.php/book/\\d+',book_link):\n",
    "                        #print(book_name,book_link)\n",
    "                        books.append((book_name,book_link))\n",
    "                except:\n",
    "                    print('Except: ', book)\n",
    "        \n",
    "        site_data[str(category[1])] = books\n",
    "        \n",
    "    with open('cats_books.json', 'w') as fp:\n",
    "        json.dump(site_data, fp)"
   ]
  },
  {
   "cell_type": "code",
   "execution_count": 70,
   "metadata": {},
   "outputs": [],
   "source": [
    "index_url = 'index.php/book/124336'"
   ]
  },
  {
   "cell_type": "code",
   "execution_count": 69,
   "metadata": {},
   "outputs": [
    {
     "data": {
      "text/plain": [
       "'http://www.shamela.ws/index.php/book/124336'"
      ]
     },
     "execution_count": 69,
     "metadata": {},
     "output_type": "execute_result"
    }
   ],
   "source": [
    "re.findall"
   ]
  },
  {
   "cell_type": "code",
   "execution_count": null,
   "metadata": {},
   "outputs": [],
   "source": [
    "def get_book_url(index_url):\n",
    "    book_url = 'http://shamela.ws/browse.php/book-'"
   ]
  }
 ],
 "metadata": {
  "kernelspec": {
   "display_name": "Python 3",
   "language": "python",
   "name": "python3"
  },
  "language_info": {
   "codemirror_mode": {
    "name": "ipython",
    "version": 3
   },
   "file_extension": ".py",
   "mimetype": "text/x-python",
   "name": "python",
   "nbconvert_exporter": "python",
   "pygments_lexer": "ipython3",
   "version": "3.6.5"
  }
 },
 "nbformat": 4,
 "nbformat_minor": 2
}
