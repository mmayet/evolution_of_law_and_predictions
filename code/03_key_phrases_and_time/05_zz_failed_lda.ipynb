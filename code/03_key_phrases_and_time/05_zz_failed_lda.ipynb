{
 "cells": [
  {
   "cell_type": "markdown",
   "metadata": {},
   "source": [
    "# Attempts at LDA and LdaSeqModel\n",
    "These models were simply not suited for the corpus at hand. This notebooks shows a brief overview of the approach during my tests, and how a successful version would have been implemented."
   ]
  },
  {
   "cell_type": "code",
   "execution_count": 1,
   "metadata": {},
   "outputs": [],
   "source": [
    "import io\n",
    "import re\n",
    "import json\n",
    "from glob import glob"
   ]
  },
  {
   "cell_type": "markdown",
   "metadata": {},
   "source": [
    "# LDA"
   ]
  },
  {
   "cell_type": "code",
   "execution_count": 1,
   "metadata": {},
   "outputs": [
    {
     "name": "stderr",
     "output_type": "stream",
     "text": [
      "C:\\Users\\mayet\\Anaconda3\\lib\\site-packages\\gensim\\utils.py:1209: UserWarning: detected Windows; aliasing chunkize to chunkize_serial\n",
      "  warnings.warn(\"detected Windows; aliasing chunkize to chunkize_serial\")\n"
     ]
    }
   ],
   "source": [
    "import pickle\n",
    "from gensim import corpora\n",
    "from gensim.test.utils import datapath\n",
    "from gensim.models import LdaModel, LdaSeqModel"
   ]
  },
  {
   "cell_type": "code",
   "execution_count": 10,
   "metadata": {},
   "outputs": [],
   "source": [
    "dict_134 = corpora.Dictionary.load_from_text('gensim_files/dict_134.dict')\n",
    "dict_135 = corpora.Dictionary.load_from_text('gensim_files/dict_135.dict')\n",
    "dict_136 = corpora.Dictionary.load_from_text('gensim_files/dict_136.dict')\n",
    "dict_137 = corpora.Dictionary.load_from_text('gensim_files/dict_137.dict')"
   ]
  },
  {
   "cell_type": "code",
   "execution_count": 11,
   "metadata": {},
   "outputs": [],
   "source": [
    "corpus_134 = corpora.MmCorpus('gensim_files/corpus_134.mm')\n",
    "corpus_135 = corpora.MmCorpus('gensim_files/corpus_135.mm')\n",
    "corpus_136 = corpora.MmCorpus('gensim_files/corpus_136.mm')\n",
    "corpus_137 = corpora.MmCorpus('gensim_files/corpus_137.mm')"
   ]
  },
  {
   "cell_type": "code",
   "execution_count": null,
   "metadata": {},
   "outputs": [],
   "source": [
    "lda = LdaModel(corpus_134,\n",
    "               num_topics=5, \n",
    "               id2word=dict_134,\n",
    "               update_every=15,\n",
    "               chunksize=100,\n",
    "               passes=10)"
   ]
  },
  {
   "cell_type": "code",
   "execution_count": null,
   "metadata": {},
   "outputs": [],
   "source": [
    "lda.print_topics(num_topics=10, num_words=30)"
   ]
  },
  {
   "cell_type": "markdown",
   "metadata": {},
   "source": [
    "# LdaSeqModel"
   ]
  },
  {
   "cell_type": "code",
   "execution_count": null,
   "metadata": {},
   "outputs": [],
   "source": [
    "ldaseq_dict = LdaSeqModel(corpus=corpus_134, id2word=dict_134, time_slice=[7, 26, 8, 7], num_topics=3, chunksize=10, passes=10, random_state=3)"
   ]
  },
  {
   "cell_type": "code",
   "execution_count": null,
   "metadata": {},
   "outputs": [],
   "source": [
    "ldaseq_dict.print_topics(num_topics=3, num_words=30)"
   ]
  }
 ],
 "metadata": {
  "kernelspec": {
   "display_name": "Python 3",
   "language": "python",
   "name": "python3"
  },
  "language_info": {
   "codemirror_mode": {
    "name": "ipython",
    "version": 3
   },
   "file_extension": ".py",
   "mimetype": "text/x-python",
   "name": "python",
   "nbconvert_exporter": "python",
   "pygments_lexer": "ipython3",
   "version": "3.6.5"
  }
 },
 "nbformat": 4,
 "nbformat_minor": 2
}
