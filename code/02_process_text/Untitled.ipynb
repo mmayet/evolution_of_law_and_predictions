{
 "cells": [
  {
   "cell_type": "code",
   "execution_count": 1,
   "metadata": {},
   "outputs": [
    {
     "name": "stderr",
     "output_type": "stream",
     "text": [
      "C:\\Users\\mayet\\Anaconda3\\lib\\site-packages\\gensim\\utils.py:1209: UserWarning: detected Windows; aliasing chunkize to chunkize_serial\n",
      "  warnings.warn(\"detected Windows; aliasing chunkize to chunkize_serial\")\n"
     ]
    }
   ],
   "source": [
    "from gensim.models.doc2vec import Doc2Vec, TaggedDocument"
   ]
  },
  {
   "cell_type": "code",
   "execution_count": 4,
   "metadata": {},
   "outputs": [],
   "source": [
    "model_134 = Doc2Vec.load('134.model')\n",
    "model_135 = Doc2Vec.load('135.model')\n",
    "model_136 = Doc2Vec.load('136.model')\n",
    "model_137 = Doc2Vec.load('137.model')"
   ]
  },
  {
   "cell_type": "code",
   "execution_count": 27,
   "metadata": {},
   "outputs": [
    {
     "name": "stderr",
     "output_type": "stream",
     "text": [
      "C:\\Users\\mayet\\Anaconda3\\lib\\site-packages\\ipykernel_launcher.py:1: DeprecationWarning: Call to deprecated `cum_table` (Attribute will be removed in 4.0.0, use self.vocabulary.cum_table instead).\n",
      "  \"\"\"Entry point for launching an IPython kernel.\n"
     ]
    },
    {
     "data": {
      "text/plain": [
       "array([ 197876766,  383369250,  515517517,  607599062,  694689603,\n",
       "        751445185,  803488005,  852312096,  900921523,  949095315,\n",
       "        995310063, 1041066786, 1082412775, 1117677001, 1152910004,\n",
       "       1185524527, 1217451721, 1246856204, 1275007799, 1302989242,\n",
       "       1330936917, 1358397792, 1384619460, 1410442681, 1436254323,\n",
       "       1461387309, 1486230849, 1509462146, 1531489452, 1552070798,\n",
       "       1572102065, 1591248568, 1610081736, 1628841013, 1647141638,\n",
       "       1664497452, 1681779324, 1697673012, 1713416724, 1728955565,\n",
       "       1744078346, 1759109663, 1773943625, 1788268449, 1802293153,\n",
       "       1815877815, 1829386935, 1842315953, 1855163802, 1866899415,\n",
       "       1878166055, 1889392216, 1900241860, 1910680146, 1921033028,\n",
       "       1931360507, 1941671805, 1951391345, 1960380457, 1968819958,\n",
       "       1977254809, 1985670693, 1994037407, 2002133217, 2010222845,\n",
       "       2018258378, 2025598368, 2032913238, 2039300043, 2045587354,\n",
       "       2051766130, 2057936107, 2063964844, 2069936341, 2075520106,\n",
       "       2081009590, 2086107916, 2090980026, 2095602611, 2100208557,\n",
       "       2103567243, 2106233908, 2108841496, 2111421789, 2113850052,\n",
       "       2116257358, 2118187885, 2120116414, 2122033182, 2123857899,\n",
       "       2125626183, 2127226211, 2128770029, 2130190301, 2131556238,\n",
       "       2132885282, 2134156024, 2135400539, 2136620914, 2137757724,\n",
       "       2138863166, 2139911355, 2140892019, 2141869200, 2142764115,\n",
       "       2143658779, 2144381681, 2145049232, 2145560527, 2145994883,\n",
       "       2146378670, 2146615163, 2146831139, 2146926108, 2146975587,\n",
       "       2147024320, 2147055733, 2147084215, 2147108518, 2147128608,\n",
       "       2147148475, 2147167210, 2147184791, 2147202256, 2147218537,\n",
       "       2147234337, 2147249894, 2147265452, 2147280766, 2147295712,\n",
       "       2147309661, 2147323484, 2147334007, 2147344391, 2147353497,\n",
       "       2147362457, 2147371270, 2147379338, 2147387255, 2147394865,\n",
       "       2147401849, 2147408674, 2147415499, 2147421508, 2147427348,\n",
       "       2147433189, 2147438860, 2147443477, 2147447535, 2147451206,\n",
       "       2147454878, 2147458351, 2147461415, 2147464051, 2147466686,\n",
       "       2147469099, 2147471512, 2147473695, 2147475878, 2147478061,\n",
       "       2147480006, 2147481951, 2147483647], dtype=uint32)"
      ]
     },
     "execution_count": 27,
     "metadata": {},
     "output_type": "execute_result"
    }
   ],
   "source": [
    "model_134.cum_table"
   ]
  }
 ],
 "metadata": {
  "kernelspec": {
   "display_name": "Python 3",
   "language": "python",
   "name": "python3"
  },
  "language_info": {
   "codemirror_mode": {
    "name": "ipython",
    "version": 3
   },
   "file_extension": ".py",
   "mimetype": "text/x-python",
   "name": "python",
   "nbconvert_exporter": "python",
   "pygments_lexer": "ipython3",
   "version": "3.6.5"
  }
 },
 "nbformat": 4,
 "nbformat_minor": 2
}
