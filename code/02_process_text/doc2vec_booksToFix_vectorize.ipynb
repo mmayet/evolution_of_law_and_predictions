{
 "cells": [
  {
   "cell_type": "code",
   "execution_count": 1,
   "metadata": {},
   "outputs": [],
   "source": [
    "import io\n",
    "import re\n",
    "import json\n",
    "from glob import glob"
   ]
  },
  {
   "cell_type": "markdown",
   "metadata": {},
   "source": [
    "https://rstudio-pubs-static.s3.amazonaws.com/79360_850b2a69980c4488b1db95987a24867a.html\n",
    "\n",
    "http://brandonrose.org/clustering#Latent-Dirichlet-Allocation\n",
    "\n",
    "https://radimrehurek.com/gensim/tut1.html\n",
    "\n",
    "Mālikīs:\n",
    "Unẓr\n",
    "Madhhab\n",
    "Rushd\n",
    "Nawādir\n",
    "المواز\n",
    "\n",
    "\n",
    "Shāfīʿī:\n",
    "روي - and the like\n",
    "\n",
    "\n",
    "Ḥanbalī:\n",
    "much more quotes (qāl, ʿan,, qīl)"
   ]
  },
  {
   "cell_type": "markdown",
   "metadata": {},
   "source": [
    "# LDA"
   ]
  },
  {
   "cell_type": "code",
   "execution_count": 1,
   "metadata": {},
   "outputs": [
    {
     "name": "stderr",
     "output_type": "stream",
     "text": [
      "C:\\Users\\mayet\\Anaconda3\\lib\\site-packages\\gensim\\utils.py:1209: UserWarning: detected Windows; aliasing chunkize to chunkize_serial\n",
      "  warnings.warn(\"detected Windows; aliasing chunkize to chunkize_serial\")\n"
     ]
    }
   ],
   "source": [
    "import pickle\n",
    "from gensim import corpora\n",
    "from gensim.test.utils import datapath\n",
    "from gensim.models import LdaModel, LdaSeqModel"
   ]
  },
  {
   "cell_type": "code",
   "execution_count": 10,
   "metadata": {},
   "outputs": [],
   "source": [
    "dict_134 = corpora.Dictionary.load_from_text('gensim_files/dict_134.dict')\n",
    "dict_135 = corpora.Dictionary.load_from_text('gensim_files/dict_135.dict')\n",
    "dict_136 = corpora.Dictionary.load_from_text('gensim_files/dict_136.dict')\n",
    "dict_137 = corpora.Dictionary.load_from_text('gensim_files/dict_137.dict')"
   ]
  },
  {
   "cell_type": "code",
   "execution_count": 11,
   "metadata": {},
   "outputs": [],
   "source": [
    "corpus_134 = corpora.MmCorpus('gensim_files/corpus_134.mm')\n",
    "corpus_135 = corpora.MmCorpus('gensim_files/corpus_135.mm')\n",
    "corpus_136 = corpora.MmCorpus('gensim_files/corpus_136.mm')\n",
    "corpus_137 = corpora.MmCorpus('gensim_files/corpus_137.mm')"
   ]
  },
  {
   "cell_type": "code",
   "execution_count": null,
   "metadata": {},
   "outputs": [],
   "source": [
    "lda = LdaModel(corpus_134,\n",
    "               num_topics=5, \n",
    "               id2word=dict_134,\n",
    "               update_every=15,\n",
    "               chunksize=100,\n",
    "               passes=10)"
   ]
  },
  {
   "cell_type": "code",
   "execution_count": 17,
   "metadata": {},
   "outputs": [
    {
     "data": {
      "text/plain": [
       "collections.abc.ValuesView"
      ]
     },
     "execution_count": 17,
     "metadata": {},
     "output_type": "execute_result"
    }
   ],
   "source": [
    "dict_134.values()"
   ]
  },
  {
   "cell_type": "code",
   "execution_count": null,
   "metadata": {},
   "outputs": [],
   "source": [
    "lda.print_topics(num_topics=10, num_words=30)"
   ]
  },
  {
   "cell_type": "markdown",
   "metadata": {},
   "source": [
    "# LdaSeqModel"
   ]
  },
  {
   "cell_type": "markdown",
   "metadata": {},
   "source": [
    "Aḥnāf: [7, 26, 8, 7]\n",
    "\n",
    "Mālikiyyah: [2, 30, 22, 12]\n",
    "\n",
    "Shāfiʿiyyah: [2, 34, 15, 9]\n",
    "\n",
    "Ḥanābillah: [10, 30, 20, 17]\n"
   ]
  },
  {
   "cell_type": "code",
   "execution_count": 51,
   "metadata": {},
   "outputs": [],
   "source": [
    "time_ranges = {\n",
    "    134: [7, 26, 8, 7],\n",
    "    135: [2, 30, 22, 12],\n",
    "    136: [2, 34, 15, 9],\n",
    "    137: [10, 30, 20, 17]}"
   ]
  },
  {
   "cell_type": "code",
   "execution_count": 52,
   "metadata": {},
   "outputs": [
    {
     "data": {
      "text/plain": [
       "[7, 26, 8, 7]"
      ]
     },
     "execution_count": 52,
     "metadata": {},
     "output_type": "execute_result"
    }
   ],
   "source": [
    "time_ranges[134]"
   ]
  },
  {
   "cell_type": "code",
   "execution_count": 7,
   "metadata": {},
   "outputs": [
    {
     "name": "stderr",
     "output_type": "stream",
     "text": [
      "C:\\Users\\mayet\\Anaconda3\\lib\\site-packages\\gensim\\models\\ldaseqmodel.py:290: RuntimeWarning: divide by zero encountered in double_scalars\n",
      "  convergence = np.fabs((bound - old_bound) / old_bound)\n"
     ]
    }
   ],
   "source": [
    "ldaseq = LdaSeqModel(corpus=corpus_134, time_slice=[7, 26, 8, 7], num_topics=3, chunksize=10, passes=10, random_state=3)"
   ]
  },
  {
   "cell_type": "code",
   "execution_count": 61,
   "metadata": {},
   "outputs": [],
   "source": [
    "temp_file = datapath(\"dtm_134_model\")\n",
    "ldaseq.save(temp_file)\n",
    "#pickle.dump( ldaseq, open( \"dtm_134_model.p\", \"wb\" ) )"
   ]
  },
  {
   "cell_type": "code",
   "execution_count": 7,
   "metadata": {},
   "outputs": [],
   "source": [
    "#ldaseq = LdaSeqModel.load(\"dtm_134_model\")\n",
    "with open('dtm_134_model.p', 'rb') as f:\n",
    "    ldaseq_134 = pickle.load(f)"
   ]
  },
  {
   "cell_type": "code",
   "execution_count": null,
   "metadata": {},
   "outputs": [],
   "source": [
    "ldaseq_134.print_topics(time=0)"
   ]
  },
  {
   "cell_type": "code",
   "execution_count": null,
   "metadata": {},
   "outputs": [],
   "source": [
    "ldaseq_dict = LdaSeqModel(corpus=corpus_134, id2word=dict_134, time_slice=[7, 26, 8, 7], num_topics=3, chunksize=10, passes=10, random_state=3)"
   ]
  },
  {
   "cell_type": "code",
   "execution_count": null,
   "metadata": {},
   "outputs": [],
   "source": [
    "ldaseq_dict.print_topics(num_topics=3, num_words=30)"
   ]
  },
  {
   "cell_type": "code",
   "execution_count": 6,
   "metadata": {},
   "outputs": [
    {
     "name": "stdout",
     "output_type": "stream",
     "text": [
      "[[182, '96606'], [189, '14285'], [189, '18264'], [189, '6161'], [189, '6163'], [189, '6164'], [189, '7231'], [370, '16546'], [373, '14335'], [428, '124336'], [428, '17768'], [461, '6178'], [483, '5423'], [540, '7691'], [586, '22362'], [587, '8183'], [593, '11820'], [593, '6170'], [616, '10875'], [666, '6173'], [683, '1066'], [686, '6226'], [710, '14262'], [743, '23023'], [773, '7534'], [786, '9403'], [792, '18259'], [800, '21596'], [803, '11816'], [855, '13784'], [855, '427'], [882, '6179'], [885, '11446'], [956, '6185'], [970, '12227'], [1005, '13620'], [1030, '21639'], [1069, '12117'], [1069, '412'], [1078, '21644'], [1088, '14250'], [1231, '11993'], [1252, '21613'], [1298, '21496'], [1304, '6160'], [1306, '14450'], [1306, '918'], [1340, '8502']]\n"
     ]
    }
   ],
   "source": [
    "def load_book_order(category_id):\n",
    "    with open('gensim_files/'+str(category_id)+'_book_order.json') as f:\n",
    "        return json.load(f)\n",
    "    \n",
    "print (load_book_order(134))"
   ]
  },
  {
   "cell_type": "markdown",
   "metadata": {},
   "source": [
    "# Get Book Order for DTM\n",
    "\n",
    "https://stackoverflow.com/questions/43789439/python-json-loads-changes-the-order-of-the-object"
   ]
  },
  {
   "cell_type": "code",
   "execution_count": 41,
   "metadata": {},
   "outputs": [],
   "source": [
    "from bs4 import BeautifulSoup"
   ]
  },
  {
   "cell_type": "code",
   "execution_count": 53,
   "metadata": {},
   "outputs": [],
   "source": [
    "page = io.open('../../../../../Desktop/OEBPS/xhtml/P'+str(1)+'.xhtml', 'rb').read()"
   ]
  },
  {
   "cell_type": "code",
   "execution_count": 56,
   "metadata": {},
   "outputs": [],
   "source": [
    "soup = BeautifulSoup(page, \"lxml\")"
   ]
  },
  {
   "cell_type": "code",
   "execution_count": 57,
   "metadata": {},
   "outputs": [
    {
     "data": {
      "text/plain": [
       "'\\n\\n\\nمُقَدّمَة الْمُؤلفبِسم الله الرَّحْمَن الرَّحِيم وَبِه نستعينالْحَمد لله، ونحمده وَنَسْتَعِينُهُ وَنَسْتَغْفِرُهُ، وَنَعُوذُ بِاللَّهِ مِنْ شُرُورِ أَنْفُسِنَا وَمن سيئات أَعمالنَا، من ييهده اللَّهُ فَلَا مُضِلَّ لَهُ، وَمَنْ يُضْلِلْ فَلَا هَادِيَ لَهُ. وَأَشْهَدُ أَنْ لَا إِلَهَ إِلَّا اللَّهُ شَهَادَةً تَكُونُ لِلنَّجَاةِ وَسِيلَةً، وَلِرَفْعِ الدَّرَجَاتِ كَفِيلَةً، وَأَشْهَدُ أَنَّ مُحَمَّدًا عَبْدُهُ وَرَسُولُهُ، الَّذِي بَعثه وطرق الْإِيمَانِ قَدْ عَفَتْ آثَارُهَا، وَخَبَتْ أَنْوَارُهَا، وَوَهَنَتْ أَرْكَانهَا، وَجَهل مَكَانهَا، فشيد صلوَات الله وسلامة عَلَيْهِ من معالمها مَا عَفا، وشفى من الغليل فِي تَأْيِيدِ كَلِمَةِ التَّوْحِيدِ مَنْ كَانَ عَلَى شفى، وأوضح سَبِيل الهادية لِمَنْ أَرَادَ أَنْ يَسْلُكَهَا، وَأَظْهَرَ كُنُوزَ السَّعَادَةِ لِمَنْ قَصَدَ أَنْ يَمْلِكَهَا. أَمَّا بَعْدُ؛ فَإِنَّ التَّمَسُّكَ بِهَدْيهِ لَا يَسْتَتِبُّ إِلَّا بِالِاقْتِفَاءِ لِمَا صَدَرَ مِنْ مِشْكَاتِهِ، وَالِاعْتِصَامُ بِحَبْلِ اللَّهِ لَا يَتِمُّ إِلَّا بِبَيَانِ كَشْفِهِ، وَكَانَ «كِتَابُ الْمَصَابِيحِ» - الَّذِي صَنَّفَهُ الْإِمَامُ مُحْيِي السُّنَّةِ، قَامِعُ الْبِدْعَةِ، أَبُو مُحَمَّد الْحُسَيْن بن مَسْعُود الْفراء الْبَغَوِيُّ، رَفَعَ اللَّهُ دَرَجَتَهُ - أَجْمَعَ كِتَابٍ صُنِّفَ فِي بَابِهِ، وَأَضْبَطَ لِشَوَارِدِ الْأَحَادِيثِ وَأَوَابِدِهَا. وَلَمَّا سلك - رَضِي الله عَنهُ - طَرِيق الِاخْتِصَارَ، وَحَذَفَ الْأَسَانِيدَ؛ تَكَلَّمَ فِيهِ\\n'"
      ]
     },
     "execution_count": 57,
     "metadata": {},
     "output_type": "execute_result"
    }
   ],
   "source": [
    "soup.find('div',{'id':'book-container'}).text"
   ]
  }
 ],
 "metadata": {
  "kernelspec": {
   "display_name": "Python 3",
   "language": "python",
   "name": "python3"
  },
  "language_info": {
   "codemirror_mode": {
    "name": "ipython",
    "version": 3
   },
   "file_extension": ".py",
   "mimetype": "text/x-python",
   "name": "python",
   "nbconvert_exporter": "python",
   "pygments_lexer": "ipython3",
   "version": "3.6.5"
  }
 },
 "nbformat": 4,
 "nbformat_minor": 2
}
