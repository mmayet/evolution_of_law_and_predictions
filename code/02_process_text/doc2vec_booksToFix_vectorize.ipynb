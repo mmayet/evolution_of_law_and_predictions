{
 "cells": [
  {
   "cell_type": "code",
   "execution_count": 1,
   "metadata": {},
   "outputs": [],
   "source": [
    "import io\n",
    "import re\n",
    "import json\n",
    "from glob import glob"
   ]
  },
  {
   "cell_type": "markdown",
   "metadata": {},
   "source": [
    "https://rstudio-pubs-static.s3.amazonaws.com/79360_850b2a69980c4488b1db95987a24867a.html\n",
    "\n",
    "http://brandonrose.org/clustering#Latent-Dirichlet-Allocation\n",
    "\n",
    "https://radimrehurek.com/gensim/tut1.html\n",
    "\n",
    "Mālikīs:\n",
    "Unẓr\n",
    "Madhhab\n",
    "Rushd\n",
    "Nawādir\n",
    "المواز\n",
    "\n",
    "\n",
    "Shāfīʿī:\n",
    "روي - and the like\n",
    "\n",
    "\n",
    "Ḥanbalī:\n",
    "much more quotes (qāl, ʿan,, qīl)"
   ]
  },
  {
   "cell_type": "markdown",
   "metadata": {},
   "source": [
    "# LDA"
   ]
  },
  {
   "cell_type": "code",
   "execution_count": 1,
   "metadata": {},
   "outputs": [
    {
     "name": "stderr",
     "output_type": "stream",
     "text": [
      "C:\\Users\\mayet\\Anaconda3\\lib\\site-packages\\gensim\\utils.py:1209: UserWarning: detected Windows; aliasing chunkize to chunkize_serial\n",
      "  warnings.warn(\"detected Windows; aliasing chunkize to chunkize_serial\")\n"
     ]
    }
   ],
   "source": [
    "from gensim import corpora\n",
    "from gensim.models import LdaModel, LdaSeqModel"
   ]
  },
  {
   "cell_type": "code",
   "execution_count": 2,
   "metadata": {},
   "outputs": [],
   "source": [
    "dict_134 = corpora.Dictionary.load_from_text('gensim_files/dict_134.dict')\n",
    "dict_135 = corpora.Dictionary.load_from_text('gensim_files/dict_135.dict')\n",
    "dict_136 = corpora.Dictionary.load_from_text('gensim_files/dict_136.dict')\n",
    "dict_137 = corpora.Dictionary.load_from_text('gensim_files/dict_137.dict')"
   ]
  },
  {
   "cell_type": "code",
   "execution_count": 3,
   "metadata": {},
   "outputs": [],
   "source": [
    "corpus_134 = corpora.MmCorpus('gensim_files/corpus_134.mm')\n",
    "corpus_135 = corpora.MmCorpus('gensim_files/corpus_135.mm')\n",
    "corpus_136 = corpora.MmCorpus('gensim_files/corpus_136.mm')\n",
    "corpus_137 = corpora.MmCorpus('gensim_files/corpus_137.mm')"
   ]
  },
  {
   "cell_type": "code",
   "execution_count": null,
   "metadata": {},
   "outputs": [],
   "source": [
    "lda = LdaModel(corpus_134,\n",
    "               num_topics=10, \n",
    "               id2word=dict_134,\n",
    "               update_every=15,\n",
    "               chunksize=100,\n",
    "               passes=10)"
   ]
  },
  {
   "cell_type": "code",
   "execution_count": null,
   "metadata": {},
   "outputs": [],
   "source": [
    "lda.print_topics(num_topics=10, num_words=30)"
   ]
  },
  {
   "cell_type": "markdown",
   "metadata": {},
   "source": [
    "# LdaSeqModel"
   ]
  },
  {
   "cell_type": "code",
   "execution_count": null,
   "metadata": {},
   "outputs": [
    {
     "name": "stderr",
     "output_type": "stream",
     "text": [
      "C:\\Users\\mayet\\Anaconda3\\lib\\site-packages\\gensim\\models\\ldaseqmodel.py:290: RuntimeWarning: divide by zero encountered in double_scalars\n",
      "  convergence = np.fabs((bound - old_bound) / old_bound)\n"
     ]
    }
   ],
   "source": [
    "ldaseq = LdaSeqModel(corpus=corpus_134, time_slice=[7, 26, 8, 7], num_topics=3, chunksize=10, passes=10, random_state=3)"
   ]
  },
  {
   "cell_type": "code",
   "execution_count": null,
   "metadata": {},
   "outputs": [],
   "source": [
    "ldaseq.print_topics(num_topics=3, num_words=30)"
   ]
  },
  {
   "cell_type": "code",
   "execution_count": null,
   "metadata": {},
   "outputs": [],
   "source": [
    "ldaseq_dict = LdaSeqModel(corpus=corpus_134, id2word=dict_134, time_slice=[7, 26, 8, 7], num_topics=3, chunksize=10, passes=10, random_state=3)"
   ]
  },
  {
   "cell_type": "code",
   "execution_count": null,
   "metadata": {},
   "outputs": [],
   "source": [
    "ldaseq_dict.print_topics(num_topics=3, num_words=30)"
   ]
  },
  {
   "cell_type": "code",
   "execution_count": 6,
   "metadata": {},
   "outputs": [
    {
     "name": "stdout",
     "output_type": "stream",
     "text": [
      "[[182, '96606'], [189, '14285'], [189, '18264'], [189, '6161'], [189, '6163'], [189, '6164'], [189, '7231'], [370, '16546'], [373, '14335'], [428, '124336'], [428, '17768'], [461, '6178'], [483, '5423'], [540, '7691'], [586, '22362'], [587, '8183'], [593, '11820'], [593, '6170'], [616, '10875'], [666, '6173'], [683, '1066'], [686, '6226'], [710, '14262'], [743, '23023'], [773, '7534'], [786, '9403'], [792, '18259'], [800, '21596'], [803, '11816'], [855, '13784'], [855, '427'], [882, '6179'], [885, '11446'], [956, '6185'], [970, '12227'], [1005, '13620'], [1030, '21639'], [1069, '12117'], [1069, '412'], [1078, '21644'], [1088, '14250'], [1231, '11993'], [1252, '21613'], [1298, '21496'], [1304, '6160'], [1306, '14450'], [1306, '918'], [1340, '8502']]\n"
     ]
    }
   ],
   "source": [
    "def load_book_order(category_id):\n",
    "    with open('gensim_files/'+str(category_id)+'_book_order.json') as f:\n",
    "        return json.load(f)\n",
    "    \n",
    "print (load_book_order(134))"
   ]
  },
  {
   "cell_type": "markdown",
   "metadata": {},
   "source": [
    "# TFiDF"
   ]
  },
  {
   "cell_type": "code",
   "execution_count": 74,
   "metadata": {},
   "outputs": [],
   "source": [
    "import io\n",
    "from pyarabic import araby\n",
    "from nltk.corpus import stopwords\n",
    "from collections import OrderedDict\n",
    "from stop_words import get_stop_words\n",
    "from nltk.stem.isri import ISRIStemmer\n",
    "from sklearn.feature_extraction.text import TfidfVectorizer, CountVectorizer"
   ]
  },
  {
   "cell_type": "code",
   "execution_count": 76,
   "metadata": {},
   "outputs": [],
   "source": [
    "sw1 = get_stop_words('arabic') + stopwords.words(\"arabic\")\n",
    "sw2 = ['ا','أ','إ','ذ','ض','ص','ث','ق','ف','غ','ع','ه','خ','ح','ج','ش','س','ي','ب','ل','ا','ال','ت','ن','م','ك','ئ','ء','ؤ','ر','لا','ى','ة','و','ز','ظ']\n",
    "sw3 = [\"آله\", \"أبو\", \"أبي\", \"أثنى\", \"أحدهما\", \"أظهرهما\", \"أن\", \"أنه\", \"أو\", \"أى\", \"إلا\", \"إلخ\", \"إله\", \"إلى\", \"ابن\", \"ابو\",\"ابي\", \"الآتي\", \"الأستاذ\", \"الأولباب\", \"الامام\", \"البصير\", \"الثانية\", \"الجلال\", \"الحمد\", \"الخ\", \"الدكتور\", \"الرحمن\", \"الرحيم\", \"الرسول\", \"السميع\",\"الشارح\", \"الشيء\", \"الشيخ\", \"الصمد\", \"العبد\", \"العلامة\", \"العلي\", \"الفقير\", \"القدير\", \"الكتاب\", \"الله\", \"المؤلف\", \"المؤلفة\", \"المجلد\",\"المسألة\", \"المصنف\", \"النبي\", \"الي\", \"انتهى\", \"انظر\", \"اهـ\", \"باب\", \"بالواو\", \"بدلالة\", \"برقم\", \"بسم\", \"بعد\", \"بقيد\", \"بمثابة\", \"بن\", \"به\",\"بها\", \"بين\", \"بينهما\", \"تأمل\", \"تخريجه\", \"تعالى\", \"تعبيره\", \"ثم\", \"ثناء\", \"حتى\", \"حكاهما\", \"حمدا\", \"خصما\", \"دليلنا\", \"ذكرنا\", \"ذكرناه\", \"ر\"]\n",
    "sw4 = [\"فقال\",\"وعن\",\"ربه\", \"رحمة\", \"رسول\", \"رضى\", \"رضي\", \"رقم\", \"رها\", \"سبحانه\", \"سنن\", \"سيأتي\", \"شرح\", \"شيخ\", \"صلى\", \"طبقات\", \"عبد\", \"على\", \"عليكم\", \"عليه\", \"عن\",\"عند\", \"عنه\", \"غير\", \"فأشبه\", \"فأما\", \"فإن\", \"فإنا\", \"فإنه\", \"فائدة\", \"فافهم\", \"فالأصح\", \"فالقاضي\", \"فالوجه\", \"فان\", \"فانه\", \"فجاز\", \"فدل\", \"فصل\",\"فكان\", \"فلأن\", \"فلأنه\", \"فلا\", \"فلما\", \"فليتأمل\", \"فمنهم\", \"فنقول\", \"فهذا\", \"فهل\", \"فوجهان\", \"فى\", \"في\", \"فيه\", \"فيها\", \"قال\", \"قبل\", \"قدمناه\",\"قلنا\", \"قول\", \"قولان\", \"قوله\", \"كان\", \"كتاب\", \"كلام\", \"كلامهم\", \"كما\", \"كونه\", \"لأنا\", \"لأنه\", \"لأنها\", \"لان\", \"لانه\", \"لخبر\", \"لذلك\", \"لرحمة\",\"لقوله\", \"له\", \"لهم\", \"لو\", \"مادة\", \"مثال\", \"مثلا\", \"محمد\", \"مع\", \"معطوف\", \"مقدمة\", \"من\", \"مناهج\", \"منتهى\", \"منه\", \"نسخة\", \"نسلم\", \"نصا\",\"نصه\", \"نقول\", \"هريرة\", \"ههنا\", \"وأصحهما\", \"وأما\", \"وأيضا\", \"وإن\", \"وإنما\", \"وإنه\", \"واحتج\", \"واعلم\", \"والتقوى\", \"والثانى\", \"والثاني\",\"والسلام\", \"والصلاة\", \"وان\", \"وانظر\", \"وبالله\", \"وبه\", \"وتقدم\", \"وجزم\", \"وجل\", \"وجهان\", \"وسلم\", \"وسن\", \"وشرعا\", \"وصلى\", \"وعبارة\", \"وعلى\",\"وعنه\", \"وغيره\", \"وغيرهم\", \"وفى\", \"وقال\", \"وقد\", \"وقدمه\", \"وقوله\", \"وقولي\", \"وقيل\", \"وكذلك\", \"ولأن\", \"ولأنه\", \"ولأنها\", \"ولذا\", \"ولكنا\", \"ولنا\", \"ولو\",\"ومحمد\", \"وهذا\", \"وهنا\", \"وهو\", \"ويحتمل\", \"يعني\", \"يقال\", \"يقول\", \"يكون\"]\n",
    "sw = set(sw1+sw2+sw3+sw4)"
   ]
  },
  {
   "cell_type": "code",
   "execution_count": 77,
   "metadata": {},
   "outputs": [],
   "source": [
    "st = ISRIStemmer()\n",
    "\n",
    "def not_sw(text):\n",
    "    return (text not in sw) or st.stem(text) not in sw\n",
    "\n",
    "def strip_text(text):\n",
    "    return araby.strip_tatweel(araby.strip_tashkeel(text))"
   ]
  },
  {
   "cell_type": "code",
   "execution_count": null,
   "metadata": {},
   "outputs": [],
   "source": [
    "bow = cv.fit_transform(rs)\n",
    "\n",
    "sum_words = bow.sum(axis=0)\n",
    "\n",
    "words_freq = [(word, sum_words[0, idx]) for word, idx in cv.vocabulary_.items()]\n",
    "words_freq = sorted(words_freq, key = lambda x: x[1], reverse=True)"
   ]
  },
  {
   "cell_type": "code",
   "execution_count": 3,
   "metadata": {},
   "outputs": [],
   "source": [
    "def dummy_fun(doc):\n",
    "    return doc\n",
    "\n",
    "cv = CountVectorizer(\n",
    "        stop_words=sw)\n",
    "\n",
    "tfidf = TfidfVectorizer(\n",
    "        analyzer='word',\n",
    "        tokenizer=dummy_fun,\n",
    "        preprocessor=dummy_fun,\n",
    "        token_pattern=None)"
   ]
  },
  {
   "cell_type": "code",
   "execution_count": 4,
   "metadata": {},
   "outputs": [],
   "source": [
    "all_tfidfs = []\n",
    "for category_id in ['134','135','136','137']:\n",
    "    with open('gensim_files/texts_'+str(category_id)+'.json') as f:\n",
    "        books = json.load(f)\n",
    "    \n",
    "    bow = tfidf.fit_transform(books)\n",
    "    sum_words = bow.sum(axis=0)\n",
    "    words_freq = [(word, sum_words[0, idx]) for word, idx in tfidf.vocabulary_.items()]\n",
    "    words_freq = sorted(words_freq, key = lambda x: x[1], reverse=True)\n",
    "    \n",
    "    all_tfidfs.append(words_freq)"
   ]
  },
  {
   "cell_type": "code",
   "execution_count": 7,
   "metadata": {},
   "outputs": [
    {
     "data": {
      "text/plain": [
       "[('مالك', 9.485459571233676),\n",
       " ('لأن', 8.15825278466134),\n",
       " ('القاسم', 7.043596488040608),\n",
       " ('الصلاة', 6.830838409892552),\n",
       " ('المدونة', 5.691046812722358),\n",
       " ('يجوز', 5.365842906800691),\n",
       " ('شيء', 4.964737304470881),\n",
       " ('فقال', 4.47489802281021),\n",
       " ('الإمام', 4.258558002111478),\n",
       " ('غيره', 4.2150834569198805),\n",
       " ('الأول', 4.155380941231384),\n",
       " ('إليه', 3.8097015588337038),\n",
       " ('يكن', 3.7484433662034826),\n",
       " ('وإلا', 3.7302536387125746),\n",
       " ('أيضا', 3.39781398816008),\n",
       " ('أهل', 3.3519039813878995),\n",
       " ('فهو', 3.3415728900614026),\n",
       " ('السلام', 3.2956678294806263),\n",
       " ('ذكر', 3.2129995483132774),\n",
       " ('المال', 3.1604985600376807),\n",
       " ('حكم', 3.0810545514224947),\n",
       " ('مثل', 3.078903759808531),\n",
       " ('بأن', 2.9231996996246665),\n",
       " ('الماء', 2.902725554971079),\n",
       " ('بيع', 2.8269349918480953),\n",
       " ('صلاة', 2.8237942043520268),\n",
       " ('بذلك', 2.804015753234941),\n",
       " ('المشهور', 2.7444353663177337),\n",
       " ('وليس', 2.74347435951192),\n",
       " ('أحد', 2.6977884427437537),\n",
       " ('قلت', 2.645999524879351),\n",
       " ('خلاف', 2.6429270497166586),\n",
       " ('وابن', 2.589191423828832),\n",
       " ('تقدم', 2.4606003337681046),\n",
       " ('أنها', 2.427161138713134),\n",
       " ('البيع', 2.4267629936281914),\n",
       " ('مسألة', 2.4251848374214977),\n",
       " ('أشهب', 2.409066334687983),\n",
       " ('قيل', 2.3970588998220252),\n",
       " ('بخلاف', 2.3944902588871693),\n",
       " ('الناس', 2.3915814587073547),\n",
       " ('الحكم', 2.380764163415204),\n",
       " ('بغير', 2.3572336631891493),\n",
       " ('يجب', 2.3554428140941726),\n",
       " ('المذهب', 2.3390477476262377),\n",
       " ('آخر', 2.3233372715868392),\n",
       " ('رشد', 2.320332141173215),\n",
       " ('عمر', 2.310350781679783),\n",
       " ('القول', 2.2923707306357994),\n",
       " ('مات', 2.270406780753756)]"
      ]
     },
     "execution_count": 7,
     "metadata": {},
     "output_type": "execute_result"
    }
   ],
   "source": [
    "all_tfidfs[1][:50]"
   ]
  },
  {
   "cell_type": "markdown",
   "metadata": {},
   "source": [
    "# Get Book Order for DTM\n",
    "\n",
    "https://stackoverflow.com/questions/43789439/python-json-loads-changes-the-order-of-the-object"
   ]
  },
  {
   "cell_type": "code",
   "execution_count": 41,
   "metadata": {},
   "outputs": [],
   "source": [
    "from bs4 import BeautifulSoup"
   ]
  },
  {
   "cell_type": "code",
   "execution_count": 53,
   "metadata": {},
   "outputs": [],
   "source": [
    "page = io.open('../../../../../Desktop/OEBPS/xhtml/P'+str(1)+'.xhtml', 'rb').read()"
   ]
  },
  {
   "cell_type": "code",
   "execution_count": 56,
   "metadata": {},
   "outputs": [],
   "source": [
    "soup = BeautifulSoup(page, \"lxml\")"
   ]
  },
  {
   "cell_type": "code",
   "execution_count": 57,
   "metadata": {},
   "outputs": [
    {
     "data": {
      "text/plain": [
       "'\\n\\n\\nمُقَدّمَة الْمُؤلفبِسم الله الرَّحْمَن الرَّحِيم وَبِه نستعينالْحَمد لله، ونحمده وَنَسْتَعِينُهُ وَنَسْتَغْفِرُهُ، وَنَعُوذُ بِاللَّهِ مِنْ شُرُورِ أَنْفُسِنَا وَمن سيئات أَعمالنَا، من ييهده اللَّهُ فَلَا مُضِلَّ لَهُ، وَمَنْ يُضْلِلْ فَلَا هَادِيَ لَهُ. وَأَشْهَدُ أَنْ لَا إِلَهَ إِلَّا اللَّهُ شَهَادَةً تَكُونُ لِلنَّجَاةِ وَسِيلَةً، وَلِرَفْعِ الدَّرَجَاتِ كَفِيلَةً، وَأَشْهَدُ أَنَّ مُحَمَّدًا عَبْدُهُ وَرَسُولُهُ، الَّذِي بَعثه وطرق الْإِيمَانِ قَدْ عَفَتْ آثَارُهَا، وَخَبَتْ أَنْوَارُهَا، وَوَهَنَتْ أَرْكَانهَا، وَجَهل مَكَانهَا، فشيد صلوَات الله وسلامة عَلَيْهِ من معالمها مَا عَفا، وشفى من الغليل فِي تَأْيِيدِ كَلِمَةِ التَّوْحِيدِ مَنْ كَانَ عَلَى شفى، وأوضح سَبِيل الهادية لِمَنْ أَرَادَ أَنْ يَسْلُكَهَا، وَأَظْهَرَ كُنُوزَ السَّعَادَةِ لِمَنْ قَصَدَ أَنْ يَمْلِكَهَا. أَمَّا بَعْدُ؛ فَإِنَّ التَّمَسُّكَ بِهَدْيهِ لَا يَسْتَتِبُّ إِلَّا بِالِاقْتِفَاءِ لِمَا صَدَرَ مِنْ مِشْكَاتِهِ، وَالِاعْتِصَامُ بِحَبْلِ اللَّهِ لَا يَتِمُّ إِلَّا بِبَيَانِ كَشْفِهِ، وَكَانَ «كِتَابُ الْمَصَابِيحِ» - الَّذِي صَنَّفَهُ الْإِمَامُ مُحْيِي السُّنَّةِ، قَامِعُ الْبِدْعَةِ، أَبُو مُحَمَّد الْحُسَيْن بن مَسْعُود الْفراء الْبَغَوِيُّ، رَفَعَ اللَّهُ دَرَجَتَهُ - أَجْمَعَ كِتَابٍ صُنِّفَ فِي بَابِهِ، وَأَضْبَطَ لِشَوَارِدِ الْأَحَادِيثِ وَأَوَابِدِهَا. وَلَمَّا سلك - رَضِي الله عَنهُ - طَرِيق الِاخْتِصَارَ، وَحَذَفَ الْأَسَانِيدَ؛ تَكَلَّمَ فِيهِ\\n'"
      ]
     },
     "execution_count": 57,
     "metadata": {},
     "output_type": "execute_result"
    }
   ],
   "source": [
    "soup.find('div',{'id':'book-container'}).text"
   ]
  }
 ],
 "metadata": {
  "kernelspec": {
   "display_name": "Python 3",
   "language": "python",
   "name": "python3"
  },
  "language_info": {
   "codemirror_mode": {
    "name": "ipython",
    "version": 3
   },
   "file_extension": ".py",
   "mimetype": "text/x-python",
   "name": "python",
   "nbconvert_exporter": "python",
   "pygments_lexer": "ipython3",
   "version": "3.6.5"
  }
 },
 "nbformat": 4,
 "nbformat_minor": 2
}
